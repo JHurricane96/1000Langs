{
 "cells": [
  {
   "cell_type": "code",
   "execution_count": 1,
   "metadata": {},
   "outputs": [],
   "source": [
    "import sys\n",
    "sys.path.append('../')\n",
    "from bdpAPI.bdpAPI import BDPAPl\n",
    "from bibleCLOUDAPI.biblecloudAPI import BibleCloudAPl\n",
    "from biblePNGAPI.pngAPI import PNGAPl\n",
    "from bibleCOMAPI.biblecomAPI import BibleComAPl"
   ]
  },
  {
   "cell_type": "code",
   "execution_count": 2,
   "metadata": {},
   "outputs": [],
   "source": [
    "out_path='/mounts/data/proj/asgari/final_proj/000_datasets/testbib/APInew/'\n"
   ]
  },
  {
   "cell_type": "code",
   "execution_count": 3,
   "metadata": {},
   "outputs": [
    {
     "name": "stdout",
     "output_type": "stream",
     "text": [
      "Connected successfully to bible digital platform v 2.13.1\n",
      "Retrieving the bible translation\n"
     ]
    },
    {
     "name": "stderr",
     "output_type": "stream",
     "text": [
      "100%|██████████| 14/14 [00:05<00:00,  2.35it/s]\n"
     ]
    },
    {
     "name": "stdout",
     "output_type": "stream",
     "text": [
      "Double checking of the missing translations..\n",
      "Retrieving the bible translation\n"
     ]
    },
    {
     "name": "stderr",
     "output_type": "stream",
     "text": [
      "100%|██████████| 13/13 [00:02<00:00,  4.77it/s]\n"
     ]
    },
    {
     "name": "stdout",
     "output_type": "stream",
     "text": [
      "Double checking of the missing translations..\n",
      "Retrieving the bible translation\n"
     ]
    },
    {
     "name": "stderr",
     "output_type": "stream",
     "text": [
      "100%|██████████| 13/13 [00:02<00:00,  4.78it/s]\n"
     ]
    }
   ],
   "source": [
    "# API call\n",
    "BDP_obj = BDPAPl('f03a423aad95120f8eb40005070f19e9', out_path)\n",
    "BDP_obj.create_BPC()"
   ]
  },
  {
   "cell_type": "code",
   "execution_count": 6,
   "metadata": {},
   "outputs": [
    {
     "name": "stdout",
     "output_type": "stream",
     "text": [
      "Retrieving bible meta data from online resources..\n",
      "Preparing meta data and list of languages on bible cloud\n"
     ]
    },
    {
     "name": "stderr",
     "output_type": "stream",
     "text": [
      "100%|██████████| 1581/1581 [00:00<00:00, 755519.50it/s]"
     ]
    },
    {
     "name": "stdout",
     "output_type": "stream",
     "text": [
      "Get the missing metadata from bible cloud..\n"
     ]
    },
    {
     "name": "stderr",
     "output_type": "stream",
     "text": [
      "\n",
      "100%|██████████| 49/49 [00:18<00:00,  2.62it/s]\n"
     ]
    }
   ],
   "source": [
    "# BibleCloud call\n",
    "CL=BibleCloudAPl(out_path)\n",
    "CL.crawl_bible_cloud()"
   ]
  },
  {
   "cell_type": "code",
   "execution_count": 7,
   "metadata": {},
   "outputs": [
    {
     "name": "stderr",
     "output_type": "stream",
     "text": [
      "100%|██████████| 268/268 [00:00<00:00, 16256.76it/s]\n",
      "100%|██████████| 253/253 [00:00<00:00, 794875.59it/s]\n",
      "100%|██████████| 253/253 [01:35<00:00,  2.64it/s]\n"
     ]
    }
   ],
   "source": [
    "PNG=PNGAPl(out_path)\n",
    "PNG.crawl_bpc(20)"
   ]
  },
  {
   "cell_type": "code",
   "execution_count": null,
   "metadata": {},
   "outputs": [
    {
     "name": "stderr",
     "output_type": "stream",
     "text": [
      "\r",
      "  0%|          | 0/7 [00:00<?, ?it/s]"
     ]
    }
   ],
   "source": [
    "BCA=BibleComAPl(out_path)\n",
    "BCA.crawl_bpc(update_meta=False)"
   ]
  },
  {
   "cell_type": "code",
   "execution_count": 6,
   "metadata": {},
   "outputs": [],
   "source": [
    "import pandas as pd"
   ]
  },
  {
   "cell_type": "code",
   "execution_count": 8,
   "metadata": {},
   "outputs": [
    {
     "data": {
      "text/plain": [
       "1517"
      ]
     },
     "execution_count": 8,
     "metadata": {},
     "output_type": "execute_result"
    }
   ],
   "source": [
    "len(pd.read_table(out_path+'/reports/final_rep.tsv').language_iso.unique().tolist())"
   ]
  },
  {
   "cell_type": "code",
   "execution_count": null,
   "metadata": {},
   "outputs": [],
   "source": []
  }
 ],
 "metadata": {
  "kernelspec": {
   "display_name": "Python 3.6",
   "language": "python",
   "name": "python_3.6"
  },
  "language_info": {
   "codemirror_mode": {
    "name": "ipython",
    "version": 3
   },
   "file_extension": ".py",
   "mimetype": "text/x-python",
   "name": "python",
   "nbconvert_exporter": "python",
   "pygments_lexer": "ipython3",
   "version": "3.6.5"
  }
 },
 "nbformat": 4,
 "nbformat_minor": 2
}
