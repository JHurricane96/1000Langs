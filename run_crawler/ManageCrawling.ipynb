{
 "cells": [
  {
   "cell_type": "code",
   "execution_count": 2,
   "metadata": {},
   "outputs": [],
   "source": [
    "import sys\n",
    "sys.path.append('../')\n",
    "from bdpAPI.bdpAPI import BDPAPl\n",
    "from bibleCLOUDAPI.biblecloudAPI import BibleCloudAPl\n",
    "from biblePNGAPI.pngAPI import PNGAPl\n",
    "from bibleCOMAPI.biblecomAPI import BibleComAPl"
   ]
  },
  {
   "cell_type": "code",
   "execution_count": 3,
   "metadata": {},
   "outputs": [],
   "source": [
    "out_path='/mounts/data/proj/asgari/final_proj/000_datasets/testbib/API_repeat/'\n",
    "nump=20\n",
    "update_metadata=True\n",
    "override=True\n",
    "repeat=4"
   ]
  },
  {
   "cell_type": "code",
   "execution_count": 4,
   "metadata": {
    "scrolled": true
   },
   "outputs": [
    {
     "name": "stdout",
     "output_type": "stream",
     "text": [
      "Connected successfully to bible digital platform v 2.13.1\n",
      "Update API language file\n",
      "Retrieving the bible translation\n"
     ]
    },
    {
     "name": "stderr",
     "output_type": "stream",
     "text": [
      "100%|██████████| 1068/1068 [08:07<00:00,  2.19it/s]\n"
     ]
    },
    {
     "name": "stdout",
     "output_type": "stream",
     "text": [
      "Double checking of the missing translations..\n",
      "Retrieving the bible translation\n"
     ]
    },
    {
     "name": "stderr",
     "output_type": "stream",
     "text": [
      "100%|██████████| 336/336 [05:10<00:00,  1.08it/s]  \n"
     ]
    },
    {
     "name": "stdout",
     "output_type": "stream",
     "text": [
      "Double checking of the missing translations..\n",
      "Retrieving the bible translation\n"
     ]
    },
    {
     "name": "stderr",
     "output_type": "stream",
     "text": [
      "100%|██████████| 13/13 [00:04<00:00,  3.16it/s]\n"
     ]
    },
    {
     "name": "stdout",
     "output_type": "stream",
     "text": [
      "Double checking of the missing translations..\n",
      "Retrieving the bible translation\n"
     ]
    },
    {
     "name": "stderr",
     "output_type": "stream",
     "text": [
      "100%|██████████| 13/13 [00:04<00:00,  2.84it/s]\n"
     ]
    }
   ],
   "source": [
    "# API call\n",
    "BDP_obj = BDPAPl('f03a423aad95120f8eb40005070f19e9', out_path)\n",
    "BDP_obj.create_BPC(nump=nump,update_meta_data=update_metadata, override=override, repeat=repeat)"
   ]
  },
  {
   "cell_type": "code",
   "execution_count": 5,
   "metadata": {},
   "outputs": [
    {
     "name": "stdout",
     "output_type": "stream",
     "text": [
      "Retrieving bible meta data from online resources..\n",
      "Preparing meta data and list of languages on bible cloud\n"
     ]
    },
    {
     "name": "stderr",
     "output_type": "stream",
     "text": [
      "100%|██████████| 1581/1581 [00:00<00:00, 760022.31it/s]"
     ]
    },
    {
     "name": "stdout",
     "output_type": "stream",
     "text": [
      "Get the missing metadata from bible cloud..\n"
     ]
    },
    {
     "name": "stderr",
     "output_type": "stream",
     "text": [
      "\n",
      "100%|██████████| 48/48 [00:17<00:00,  2.71it/s]"
     ]
    },
    {
     "name": "stdout",
     "output_type": "stream",
     "text": [
      "Start parallel crawling..\n"
     ]
    },
    {
     "name": "stderr",
     "output_type": "stream",
     "text": [
      "\n",
      "100%|██████████| 445/445 [18:49<00:00,  2.54s/it]  "
     ]
    },
    {
     "name": "stdout",
     "output_type": "stream",
     "text": [
      "Start parallel crawling..\n"
     ]
    },
    {
     "name": "stderr",
     "output_type": "stream",
     "text": [
      "\n",
      "100%|██████████| 153/153 [00:11<00:00, 13.34it/s]"
     ]
    },
    {
     "name": "stdout",
     "output_type": "stream",
     "text": [
      "Start parallel crawling..\n"
     ]
    },
    {
     "name": "stderr",
     "output_type": "stream",
     "text": [
      "\n",
      "100%|██████████| 153/153 [00:11<00:00, 12.88it/s]\n"
     ]
    }
   ],
   "source": [
    "# BibleCloud call\n",
    "CL=BibleCloudAPl(out_path)\n",
    "CL.crawl_bible_cloud(nump=nump, override=override, repeat=repeat)"
   ]
  },
  {
   "cell_type": "code",
   "execution_count": 6,
   "metadata": {},
   "outputs": [
    {
     "name": "stderr",
     "output_type": "stream",
     "text": [
      "100%|██████████| 268/268 [00:00<00:00, 15382.88it/s]\n",
      "100%|██████████| 253/253 [00:00<00:00, 388418.34it/s]\n",
      "100%|██████████| 253/253 [02:24<00:00,  1.75it/s]\n",
      "100%|██████████| 11/11 [00:03<00:00,  3.51it/s]\n"
     ]
    }
   ],
   "source": [
    "PNG=PNGAPl(out_path)\n",
    "PNG.crawl_bpc(nump=nump,override=override, repeat=repeat)"
   ]
  },
  {
   "cell_type": "code",
   "execution_count": null,
   "metadata": {},
   "outputs": [
    {
     "name": "stderr",
     "output_type": "stream",
     "text": [
      "100%|██████████| 3100/3100 [00:00<00:00, 20726.12it/s]\n",
      "100%|██████████| 1811/1811 [02:05<00:00, 14.38it/s]\n",
      " 42%|████▏     | 761/1810 [1:40:36<2:18:41,  7.93s/it] "
     ]
    }
   ],
   "source": [
    "BCA=BibleComAPl(out_path)\n",
    "BCA.crawl_bpc(nump=nump,update_meta=update_metadata, override=override, repeat=repeat)"
   ]
  },
  {
   "cell_type": "code",
   "execution_count": null,
   "metadata": {},
   "outputs": [],
   "source": []
  }
 ],
 "metadata": {
  "kernelspec": {
   "display_name": "Python 3.6",
   "language": "python",
   "name": "python_3.6"
  },
  "language_info": {
   "codemirror_mode": {
    "name": "ipython",
    "version": 3
   },
   "file_extension": ".py",
   "mimetype": "text/x-python",
   "name": "python",
   "nbconvert_exporter": "python",
   "pygments_lexer": "ipython3",
   "version": "3.6.5"
  }
 },
 "nbformat": 4,
 "nbformat_minor": 2
}
