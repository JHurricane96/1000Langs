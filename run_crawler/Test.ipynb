{
 "cells": [
  {
   "cell_type": "code",
   "execution_count": 1,
   "metadata": {},
   "outputs": [
    {
     "name": "stdout",
     "output_type": "stream",
     "text": [
      "In  1198  out iso codes of  1526  total, 1000Langs crawled larger max verses for the iso code!\n",
      "In  911  out iso codes of  1239  total intersection, 1000Langs crawled larger max verses for the iso code!\n"
     ]
    }
   ],
   "source": [
    "import sys\n",
    "\n",
    "sys.path.append('../')\n",
    "from utility.visualization_utility import methods2venn2\n",
    "import pandas as pd\n",
    "import numpy as np\n",
    "from metaAPI.metadata import getMassiveparallel_meta\n",
    "from bdpAPI.bdpAPI import BDPAPl\n",
    "from bibleCLOUDAPI.biblecloudAPI import BibleCloudAPl\n",
    "from biblePNGAPI.pngAPI import PNGAPl\n",
    "from bibleCOMAPI.biblecomAPI import BibleComAPl\n",
    "import argparse\n",
    "import warnings\n",
    "import requests\n",
    "\n",
    "out_path='/mounts/data/proj/asgari/superparallelproj/new_bpc/'\n",
    "\n",
    "df_massivepar = getMassiveparallel_meta(update=False)\n",
    "\n",
    "out_path = out_path\n",
    "df_1000Langs = pd.read_table(out_path + '/reports/final_rep.tsv')\n",
    "df_1000Langs_stat = dict()\n",
    "for x, y in df_1000Langs.groupby('language_iso')['verses'].apply(list).to_dict().items():\n",
    "    df_1000Langs_stat[x] = [len(y), max(y), np.mean(y)]\n",
    "\n",
    "rows = []\n",
    "for iso, scores in df_1000Langs_stat.items():\n",
    "    rows.append([iso, scores[0], scores[1], scores[2]])\n",
    "df_1000Langs = pd.DataFrame(rows)\n",
    "df_1000Langs = df_1000Langs.rename(index=str,\n",
    "                                   columns={0: 'language_iso', 1: '#trans-1000Langs', 2: 'max-verse-1000Langs',\n",
    "                                            3: 'mean-verse-1000Langs'})\n",
    "df_1000Langs = df_1000Langs.set_index('language_iso')\n",
    "\n",
    "lange_overlap = {'MassiveParallel': df_massivepar.language_iso.tolist(),\n",
    "                 '1000Langs': df_1000Langs.index.tolist()}\n",
    "\n",
    "l = methods2venn2(lange_overlap, name=out_path + '/reports/venn.png')\n",
    "\n",
    "comp_table = df_1000Langs.join(df_massivepar.set_index('language_iso'), on='language_iso')\n",
    "comp_table = comp_table.fillna(0)\n",
    "writer = pd.ExcelWriter('../reports/comparison.xlsx')\n",
    "comp_table.to_excel(writer, 'Comparison with massively parallel corpora')\n",
    "writer.save()\n",
    "print('In ', comp_table[comp_table['max-verse-1000Langs'] >= comp_table['max-verse-massivepar']].shape[0],\n",
    "      ' out iso codes of ', comp_table.shape[0],\n",
    "      ' total, 1000Langs crawled larger max verses for the iso code!')\n",
    "print('In ', comp_table[(comp_table['max-verse-1000Langs'] >= comp_table['max-verse-massivepar']) & (\n",
    "            comp_table['max-verse-massivepar'] > 0)].shape[0], ' out iso codes of ',\n",
    "      comp_table[(comp_table['max-verse-1000Langs'] > 0) & (comp_table['max-verse-massivepar'] > 0)].shape[0],\n",
    "      ' total intersection, 1000Langs crawled larger max verses for the iso code!')\n"
   ]
  },
  {
   "cell_type": "code",
   "execution_count": null,
   "metadata": {},
   "outputs": [],
   "source": []
  }
 ],
 "metadata": {
  "kernelspec": {
   "display_name": "Python 3.6",
   "language": "python",
   "name": "python_3.6"
  },
  "language_info": {
   "codemirror_mode": {
    "name": "ipython",
    "version": 3
   },
   "file_extension": ".py",
   "mimetype": "text/x-python",
   "name": "python",
   "nbconvert_exporter": "python",
   "pygments_lexer": "ipython3",
   "version": "3.6.5"
  }
 },
 "nbformat": 4,
 "nbformat_minor": 2
}
