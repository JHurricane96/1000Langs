{
 "cells": [
  {
   "cell_type": "code",
   "execution_count": 1,
   "metadata": {},
   "outputs": [],
   "source": [
    "import sys\n",
    "sys.path.append('../')\n",
    "\n",
    "from bdpAPI.bdpAPI import BDPAPl\n",
    "from bibleCLOUDAPI.biblecloudAPI import BibleCloudAPl\n",
    "from biblePNGAPI.pngAPI import PNGAPl"
   ]
  },
  {
   "cell_type": "code",
   "execution_count": 2,
   "metadata": {},
   "outputs": [],
   "source": [
    "out_path='/mounts/data/proj/asgari/final_proj/000_datasets/testbib/API'\n"
   ]
  },
  {
   "cell_type": "code",
   "execution_count": 3,
   "metadata": {},
   "outputs": [
    {
     "name": "stderr",
     "output_type": "stream",
     "text": [
      "100%|██████████| 268/268 [00:00<00:00, 16219.23it/s]\n",
      "100%|██████████| 253/253 [00:00<00:00, 644689.50it/s]\n",
      "100%|██████████| 253/253 [01:28<00:00,  2.87it/s]\n"
     ]
    }
   ],
   "source": [
    "# API call\n",
    "#BDP_obj = BDPAPl('f03a423aad95120f8eb40005070f19e9', out_path)\n",
    "#BDP_obj.create_BPC()\n",
    "    \n",
    "# BibleCloud call\n",
    "#CL=BibleCloudAPl(out_path)\n",
    "#CL.crawl_bible_cloud()\n",
    "\n",
    "PNG=PNGAPl(out_path)\n",
    "PNG.crawl_bpc(20)"
   ]
  },
  {
   "cell_type": "code",
   "execution_count": 219,
   "metadata": {},
   "outputs": [],
   "source": [
    "pd"
   ]
  }
 ],
 "metadata": {
  "kernelspec": {
   "display_name": "Python 3.6",
   "language": "python",
   "name": "python_3.6"
  },
  "language_info": {
   "codemirror_mode": {
    "name": "ipython",
    "version": 3
   },
   "file_extension": ".py",
   "mimetype": "text/x-python",
   "name": "python",
   "nbconvert_exporter": "python",
   "pygments_lexer": "ipython3",
   "version": "3.6.5"
  }
 },
 "nbformat": 4,
 "nbformat_minor": 2
}
