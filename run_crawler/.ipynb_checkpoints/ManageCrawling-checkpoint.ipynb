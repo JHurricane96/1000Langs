{
 "cells": [
  {
   "cell_type": "code",
   "execution_count": 1,
   "metadata": {},
   "outputs": [],
   "source": [
    "import sys\n",
    "sys.path.append('../')\n",
    "from bdpAPI.bdpAPI import BDPAPl\n",
    "from bibleCLOUDAPI.biblecloudAPI import BibleCloudAPl\n",
    "from biblePNGAPI.pngAPI import PNGAPl\n",
    "from bibleCOMAPI.biblecomAPI import BibleComAPl"
   ]
  },
  {
   "cell_type": "code",
   "execution_count": 2,
   "metadata": {},
   "outputs": [],
   "source": [
    "out_path='/mounts/data/proj/asgari/final_proj/000_datasets/testbib/API_repeat/'\n",
    "nump=20\n",
    "update_metadata=True\n",
    "override=True\n",
    "repeat=4"
   ]
  },
  {
   "cell_type": "code",
   "execution_count": 3,
   "metadata": {},
   "outputs": [
    {
     "name": "stdout",
     "output_type": "stream",
     "text": [
      "Connected successfully to bible digital platform v 2.13.1\n",
      "Retrieving the bible translation\n"
     ]
    },
    {
     "name": "stderr",
     "output_type": "stream",
     "text": [
      "100%|██████████| 14/14 [00:05<00:00,  2.35it/s]\n"
     ]
    },
    {
     "name": "stdout",
     "output_type": "stream",
     "text": [
      "Double checking of the missing translations..\n",
      "Retrieving the bible translation\n"
     ]
    },
    {
     "name": "stderr",
     "output_type": "stream",
     "text": [
      "100%|██████████| 13/13 [00:02<00:00,  4.77it/s]\n"
     ]
    },
    {
     "name": "stdout",
     "output_type": "stream",
     "text": [
      "Double checking of the missing translations..\n",
      "Retrieving the bible translation\n"
     ]
    },
    {
     "name": "stderr",
     "output_type": "stream",
     "text": [
      "100%|██████████| 13/13 [00:02<00:00,  4.78it/s]\n"
     ]
    }
   ],
   "source": [
    "# API call\n",
    "BDP_obj = BDPAPl('f03a423aad95120f8eb40005070f19e9', out_path)\n",
    "BDP_obj.create_BPC(nump=nump,update_meta_data=update_metadata, override=override, repeat=repeat)"
   ]
  },
  {
   "cell_type": "code",
   "execution_count": 4,
   "metadata": {},
   "outputs": [
    {
     "name": "stdout",
     "output_type": "stream",
     "text": [
      "Retrieving bible meta data from online resources..\n",
      "Preparing meta data and list of languages on bible cloud\n"
     ]
    },
    {
     "name": "stderr",
     "output_type": "stream",
     "text": [
      "100%|██████████| 1581/1581 [00:00<00:00, 739346.04it/s]"
     ]
    },
    {
     "name": "stdout",
     "output_type": "stream",
     "text": [
      "Get the missing metadata from bible cloud..\n"
     ]
    },
    {
     "name": "stderr",
     "output_type": "stream",
     "text": [
      "\n",
      "100%|██████████| 48/48 [00:17<00:00,  2.67it/s]"
     ]
    },
    {
     "name": "stdout",
     "output_type": "stream",
     "text": [
      "Start parallel crawling..\n"
     ]
    },
    {
     "name": "stderr",
     "output_type": "stream",
     "text": [
      "\n",
      "100%|██████████| 153/153 [00:12<00:00, 12.15it/s]"
     ]
    },
    {
     "name": "stdout",
     "output_type": "stream",
     "text": [
      "Start parallel crawling..\n"
     ]
    },
    {
     "name": "stderr",
     "output_type": "stream",
     "text": [
      "\n",
      "100%|██████████| 153/153 [00:11<00:00, 12.85it/s]\n"
     ]
    }
   ],
   "source": [
    "# BibleCloud call\n",
    "CL=BibleCloudAPl(out_path)\n",
    "CL.crawl_bible_cloud(nump=nump, override=override, repeat=repeat)"
   ]
  },
  {
   "cell_type": "code",
   "execution_count": 3,
   "metadata": {},
   "outputs": [
    {
     "name": "stderr",
     "output_type": "stream",
     "text": [
      "100%|██████████| 268/268 [00:00<00:00, 17738.26it/s]\n",
      "100%|██████████| 253/253 [00:00<00:00, 723353.04it/s]\n",
      "100%|██████████| 11/11 [00:03<00:00,  3.54it/s]\n",
      "100%|██████████| 11/11 [00:03<00:00,  3.54it/s]\n"
     ]
    }
   ],
   "source": [
    "PNG=PNGAPl(out_path)\n",
    "PNG.crawl_bpc(nump=nump,override=override, repeat=repeat)"
   ]
  },
  {
   "cell_type": "code",
   "execution_count": 3,
   "metadata": {},
   "outputs": [
    {
     "name": "stderr",
     "output_type": "stream",
     "text": [
      "\r",
      "  0%|          | 0/7 [00:00<?, ?it/s]"
     ]
    },
    {
     "name": "stdout",
     "output_type": "stream",
     "text": [
      "here  /mounts/data/proj/asgari/final_proj/000_datasets/testbib/APInew//biblecom_intermediate/bible/222/\n",
      "here  /mounts/data/proj/asgari/final_proj/000_datasets/testbib/APInew//biblecom_intermediate/bible/1807/\n",
      "here  /mounts/data/proj/asgari/final_proj/000_datasets/testbib/APInew//biblecom_intermediate/bible/2141/\n",
      "here  /mounts/data/proj/asgari/final_proj/000_datasets/testbib/APInew//biblecom_intermediate/bible/1461/\n",
      "here  /mounts/data/proj/asgari/final_proj/000_datasets/testbib/APInew//biblecom_intermediate/bible/1889/\n",
      "there  /mounts/data/proj/asgari/final_proj/000_datasets/testbib/APInew//biblecom_intermediate/bible/1885/\n",
      "here  /mounts/data/proj/asgari/final_proj/000_datasets/testbib/APInew//biblecom_intermediate/bible/1981/\n"
     ]
    },
    {
     "name": "stderr",
     "output_type": "stream",
     "text": [
      "100%|██████████| 7/7 [26:46<00:00, 229.46s/it]   \n"
     ]
    },
    {
     "ename": "NameError",
     "evalue": "name 'count' is not defined",
     "output_type": "error",
     "traceback": [
      "\u001b[0;31m---------------------------------------------------------------------------\u001b[0m",
      "\u001b[0;31mNameError\u001b[0m                                 Traceback (most recent call last)",
      "\u001b[0;32m<ipython-input-3-df204eca8409>\u001b[0m in \u001b[0;36m<module>\u001b[0;34m()\u001b[0m\n\u001b[1;32m      1\u001b[0m \u001b[0mBCA\u001b[0m\u001b[0;34m=\u001b[0m\u001b[0mBibleComAPl\u001b[0m\u001b[0;34m(\u001b[0m\u001b[0mout_path\u001b[0m\u001b[0;34m)\u001b[0m\u001b[0;34m\u001b[0m\u001b[0m\n\u001b[0;32m----> 2\u001b[0;31m \u001b[0mBCA\u001b[0m\u001b[0;34m.\u001b[0m\u001b[0mcrawl_bpc\u001b[0m\u001b[0;34m(\u001b[0m\u001b[0mupdate_meta\u001b[0m\u001b[0;34m=\u001b[0m\u001b[0;32mFalse\u001b[0m\u001b[0;34m)\u001b[0m\u001b[0;34m\u001b[0m\u001b[0m\n\u001b[0m",
      "\u001b[0;32m/nfs/datm/asgari/final_proj/1000langs/bibleCOMAPI/biblecomAPI.py\u001b[0m in \u001b[0;36mcrawl_bpc\u001b[0;34m(self, nump, update_meta, override, repeat)\u001b[0m\n\u001b[1;32m     52\u001b[0m         \u001b[0;31m# iterating for max coverage\u001b[0m\u001b[0;34m\u001b[0m\u001b[0;34m\u001b[0m\u001b[0m\n\u001b[1;32m     53\u001b[0m         \u001b[0mcontinue_iter\u001b[0m \u001b[0;34m=\u001b[0m \u001b[0;32mTrue\u001b[0m\u001b[0;34m\u001b[0m\u001b[0m\n\u001b[0;32m---> 54\u001b[0;31m         \u001b[0mcount\u001b[0m \u001b[0;34m=\u001b[0m\u001b[0;36m0\u001b[0m\u001b[0;34m;\u001b[0m\u001b[0;34m\u001b[0m\u001b[0m\n\u001b[0m\u001b[1;32m     55\u001b[0m         \u001b[0;32mwhile\u001b[0m \u001b[0mcontinue_iter\u001b[0m \u001b[0;32mand\u001b[0m \u001b[0mcount\u001b[0m \u001b[0;34m<\u001b[0m \u001b[0mrepeat\u001b[0m\u001b[0;34m:\u001b[0m\u001b[0;34m\u001b[0m\u001b[0m\n\u001b[1;32m     56\u001b[0m             \u001b[0;31m# update list\u001b[0m\u001b[0;34m\u001b[0m\u001b[0;34m\u001b[0m\u001b[0m\n",
      "\u001b[0;31mNameError\u001b[0m: name 'count' is not defined"
     ]
    }
   ],
   "source": [
    "BCA=BibleComAPl(out_path)\n",
    "BCA.crawl_bpc(nump=nump,update_meta=update_metadata, override=override, repeat=repeat)"
   ]
  }
 ],
 "metadata": {
  "kernelspec": {
   "display_name": "Python 3.6",
   "language": "python",
   "name": "python_3.6"
  },
  "language_info": {
   "codemirror_mode": {
    "name": "ipython",
    "version": 3
   },
   "file_extension": ".py",
   "mimetype": "text/x-python",
   "name": "python",
   "nbconvert_exporter": "python",
   "pygments_lexer": "ipython3",
   "version": "3.6.5"
  }
 },
 "nbformat": 4,
 "nbformat_minor": 2
}
